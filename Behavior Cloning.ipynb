{
 "cells": [
  {
   "cell_type": "code",
   "execution_count": null,
   "metadata": {},
   "outputs": [],
   "source": [
    "import gym\n",
    "import pickle\n",
    "import numpy as np\n",
    "import matplotlib.pyplot as plt\n",
    "\n",
    "from sklearn.utils import shuffle\n",
    "from sklearn.gaussian_process import GaussianProcessRegressor\n",
    "from sklearn.gaussian_process.kernels import RBF, ConstantKernel as C\n",
    "\n",
    "from matplotlib import animation\n",
    "from JSAnimation.IPython_display import display_animation\n",
    "from IPython.display import display\n",
    "%matplotlib inline\n",
    "\n",
    "def display_frames_as_gif(frames):\n",
    "    patch = plt.imshow(frames[0])\n",
    "    plt.axis('off')\n",
    "    def animate(i):\n",
    "        patch.set_data(frames[i])\n",
    "\n",
    "    anim = animation.FuncAnimation(plt.gcf(), animate, frames = len(frames), interval=5)\n",
    "    display(display_animation(anim, default_mode='loop'))"
   ]
  },
  {
   "cell_type": "markdown",
   "metadata": {},
   "source": [
    "# Behavior Clonning \n",
    "\n",
    "# MountCar Example\n",
    "\n",
    "### Load data from pickle file\n",
    "\n",
    "Data file has (s,a) pairs"
   ]
  },
  {
   "cell_type": "code",
   "execution_count": null,
   "metadata": {},
   "outputs": [],
   "source": [
    "envname=\"MountainCarContinuous-v0\"\n",
    "\n",
    "# Load demonstrations\n",
    "demo_file = open('./'+envname+'_expert_demo.pkl', 'rb')\n",
    "demonstrations, = pickle.load(demo_file)\n",
    "demonstrations = shuffle(demonstrations)\n",
    "\n",
    "# Check expert's performance\n",
    "exp_ret = np.mean([np.sum(d['rewards']) for d in demonstrations])\n",
    "print('Expert\\'s Average Cumulative Rewards {:.3f}'.format(exp_ret))\n",
    "\n",
    "demo_observes = []\n",
    "demo_actions = []\n",
    "for demonstration in demonstrations:\n",
    "    for obs in demonstration['observes']:\n",
    "        demo_observes.append(obs)\n",
    "    for act in demonstration['actions']:\n",
    "        demo_actions.append(act)\n",
    "demo_observes=np.asarray(demo_observes)\n",
    "demo_actions=np.asarray(demo_actions)\n",
    "\n",
    "demo_observes, demo_actions = shuffle(demo_observes, demo_actions)\n",
    "\n",
    "demo_observes=demo_observes[:500,:]\n",
    "demo_actions=demo_actions[:500,:]"
   ]
  },
  {
   "cell_type": "markdown",
   "metadata": {},
   "source": [
    "### Print the shape of data\n",
    "### Find observation dimension and action dimension"
   ]
  },
  {
   "cell_type": "code",
   "execution_count": null,
   "metadata": {},
   "outputs": [],
   "source": [
    "obs_dim = \n",
    "act_dim = \n",
    "\n",
    "print(\"Observation data has shape {}\".format(demo_observes.shape))\n",
    "print(\"Action data has shape {}\".format(demo_actions.shape))"
   ]
  },
  {
   "cell_type": "markdown",
   "metadata": {},
   "source": [
    "### Run Gaussian Process Regression\n",
    "\n",
    "Normalize input!"
   ]
  },
  {
   "cell_type": "code",
   "execution_count": null,
   "metadata": {},
   "outputs": [],
   "source": [
    "kernel = \n",
    "gp = \n",
    "\n",
    "demo_obs_mean = np.mean(demo_observes,axis=0,keepdims=True)\n",
    "demo_obs_std = np.std(demo_observes,axis=0,keepdims=True)\n",
    "nz_demo_observes = # Whitenning input\n",
    "\n",
    "gpr = "
   ]
  },
  {
   "cell_type": "markdown",
   "metadata": {},
   "source": [
    "### Test GPR controller!"
   ]
  },
  {
   "cell_type": "code",
   "execution_count": null,
   "metadata": {
    "scrolled": false
   },
   "outputs": [],
   "source": [
    "env = gym.make(envname)\n",
    "obs = env.reset()\n",
    "obs = np.reshape(obs,[1,-1])\n",
    "total_reward = 0\n",
    "frames = []\n",
    "for t in range(10000):\n",
    "    # Render into buffer. \n",
    "    frames.append(env.render(mode = 'rgb_array'))\n",
    "    nz_obs = # Normalize input\n",
    "    action = # Add controller\n",
    "    obs, reward, done, info = env.step(action)\n",
    "    obs = np.reshape(obs,[1,-1])\n",
    "    total_reward += reward\n",
    "    if done:\n",
    "        break\n",
    "env.close()\n",
    "print('Total Reward : %.2f'%total_reward)\n",
    "display_frames_as_gif(frames)"
   ]
  },
  {
   "cell_type": "markdown",
   "metadata": {},
   "source": [
    "# Another Problem : Pendulum-v0"
   ]
  },
  {
   "cell_type": "markdown",
   "metadata": {},
   "source": [
    "### Load data from pickle file"
   ]
  },
  {
   "cell_type": "code",
   "execution_count": null,
   "metadata": {},
   "outputs": [],
   "source": [
    "envname=\"Pendulum-v0\"\n",
    "\n",
    "# Load demonstrations\n",
    "demo_file = open('./'+envname+'_expert_demo.pkl', 'rb')\n",
    "demonstrations = pickle.load(demo_file)\n",
    "demonstrations = shuffle(demonstrations)\n",
    "\n",
    "# Check expert's performance\n",
    "exp_ret = np.mean([np.sum(d['rewards']) for d in demonstrations])\n",
    "print('Expert\\'s Average Cumulative Rewards {:.3f}'.format(exp_ret))\n",
    "\n",
    "demo_observes = []\n",
    "demo_actions = []\n",
    "for demonstration in demonstrations:\n",
    "    for obs in demonstration['observes']:\n",
    "        demo_observes.append(obs)\n",
    "    for act in demonstration['actions']:\n",
    "        demo_actions.append(act)\n",
    "demo_observes=np.asarray(demo_observes)\n",
    "demo_actions=np.asarray(demo_actions)\n",
    "\n",
    "demo_observes, demo_actions = shuffle(demo_observes, demo_actions)\n",
    "\n",
    "demo_observes=demo_observes[:500,:]\n",
    "demo_actions=demo_actions[:500,:]\n",
    "\n",
    "obs_dim = demo_observes.shape[1]\n",
    "act_dim = demo_actions.shape[1]\n",
    "\n",
    "print(\"Observation data has shape {}\".format(demo_observes.shape))\n",
    "print(\"Action data has shape {}\".format(demo_actions.shape))"
   ]
  },
  {
   "cell_type": "markdown",
   "metadata": {},
   "source": [
    "### Run Gaussian Process Regression"
   ]
  },
  {
   "cell_type": "code",
   "execution_count": null,
   "metadata": {},
   "outputs": [],
   "source": [
    "kernel =\n",
    "gp =\n",
    "\n",
    "demo_obs_mean =\n",
    "demo_obs_std =\n",
    "nz_demo_observes =\n",
    "\n",
    "gpr ="
   ]
  },
  {
   "cell_type": "markdown",
   "metadata": {},
   "source": [
    "### Test GPR controller!"
   ]
  },
  {
   "cell_type": "code",
   "execution_count": null,
   "metadata": {},
   "outputs": [],
   "source": [
    "env = gym.make(envname)\n",
    "obs = env.reset()\n",
    "obs = np.reshape(obs,[1,-1])\n",
    "total_reward = 0\n",
    "frames = []\n",
    "for t in range(10000):\n",
    "    # Render into buffer. \n",
    "    frames.append(env.render(mode = 'rgb_array'))\n",
    "    nz_obs =\n",
    "    action = \n",
    "    obs, reward, done, info = env.step(action)\n",
    "    obs = np.reshape(obs,[1,-1])\n",
    "    total_reward += reward\n",
    "    if done:\n",
    "        break\n",
    "env.close()\n",
    "print('Total Reward : %.2f'%total_reward)\n",
    "display_frames_as_gif(frames)"
   ]
  }
 ],
 "metadata": {
  "kernelspec": {
   "display_name": "Python 3",
   "language": "python",
   "name": "python3"
  },
  "language_info": {
   "codemirror_mode": {
    "name": "ipython",
    "version": 3
   },
   "file_extension": ".py",
   "mimetype": "text/x-python",
   "name": "python",
   "nbconvert_exporter": "python",
   "pygments_lexer": "ipython3",
   "version": "3.5.3"
  }
 },
 "nbformat": 4,
 "nbformat_minor": 2
}
