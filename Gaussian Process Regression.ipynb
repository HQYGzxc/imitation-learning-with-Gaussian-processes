{
 "cells": [
  {
   "cell_type": "code",
   "execution_count": null,
   "metadata": {},
   "outputs": [],
   "source": [
    "import matplotlib.pyplot as plt\n",
    "import numpy as np\n",
    "import tensorflow as tf\n",
    "%matplotlib inline"
   ]
  },
  {
   "cell_type": "markdown",
   "metadata": {},
   "source": [
    "# Data Generation"
   ]
  },
  {
   "cell_type": "code",
   "execution_count": null,
   "metadata": {},
   "outputs": [],
   "source": [
    "def f3(x):\n",
    "    return np.sin(x) + 0.05*x**2\n",
    "\n",
    "x = np.linspace(-2*np.pi,2*np.pi,100)\n",
    "y = f3(x)\n",
    "\n",
    "n = 20\n",
    "x_data = np.linspace(-1.5*np.pi,1.5*np.pi,n)\n",
    "y_data = f3(x_data) + 0.05*np.random.randn(n)\n",
    "\n",
    "plt.plot(x,y,\"k-\",label=\"Ground Truth\")\n",
    "plt.plot(x_data,y_data,\"r.\",label=\"Data\")\n",
    "plt.legend()\n",
    "plt.xlim([-2*np.pi,2*np.pi])\n",
    "plt.ylim([-2,3])\n",
    "plt.show()"
   ]
  },
  {
   "cell_type": "markdown",
   "metadata": {},
   "source": [
    "# Gaussian Process Regression\n",
    "\n",
    "### Kernel\n",
    "\n",
    "$k(x_{i},x_{j}) = \\beta \\exp(-0.5\\lambda^{-1}(x_{i}-x_{j})^{2})$\n",
    "\n",
    "### Posterior mean and covariance\n",
    "\n",
    "$y_{*} = k_{*}^{t}(K + \\sigma I)^{-1}Y$\n",
    "\n",
    "$Var(y_{*}) = k_{**} - k_{*}^{t}(K + \\sigma I)^{-1}k_{*}$\n",
    "\n",
    "where\n",
    "\n",
    "$Y = [y_{i}]$ : output data vector\n",
    "\n",
    "$K = [k(x_{i},x_{j})]$ : kernel matrix of input data\n",
    "\n",
    "$k_{*} = [k(x_{*},x_{j})]$ : kernel vector of unseen input $x_{*}$\n",
    "\n",
    "$\\sigma$ : output noise"
   ]
  },
  {
   "cell_type": "code",
   "execution_count": null,
   "metadata": {},
   "outputs": [],
   "source": [
    "tf.reset_default_graph()\n",
    "\n",
    "inv_lambda = 4e0\n",
    "beta = 1e0\n",
    "sigma = 1e-4\n",
    "\n",
    "x_ph = \n",
    "y_ph = \n",
    "x_star_ph = \n",
    "\n",
    "inv_lambda_ph = tf.placeholder(tf.float32,shape=())\n",
    "beta_ph = tf.placeholder(tf.float32,shape=())\n",
    "sigma_ph = tf.placeholder(tf.float32,shape=())"
   ]
  },
  {
   "cell_type": "markdown",
   "metadata": {},
   "source": [
    "### Define GPR"
   ]
  },
  {
   "cell_type": "code",
   "execution_count": null,
   "metadata": {},
   "outputs": [],
   "source": [
    "x_norm = \n",
    "x_norm =\n",
    "\n",
    "squared_dist_XX = \n",
    "K_XX = \n",
    "\n",
    "x_star_norm = \n",
    "x_star_norm =\n",
    "\n",
    "squared_dist_XstarX = \n",
    "K_XstarX = \n",
    "\n",
    "mean_y =\n",
    "\n",
    "y_pred =\n",
    "std_pred ="
   ]
  },
  {
   "cell_type": "markdown",
   "metadata": {},
   "source": [
    "### GPR"
   ]
  },
  {
   "cell_type": "code",
   "execution_count": null,
   "metadata": {},
   "outputs": [],
   "source": [
    "sess = tf.Session()\n",
    "\n",
    "feed_dict = {x_star_ph:x[:,np.newaxis],x_ph:x_data[:,np.newaxis],y_ph:y_data[:,np.newaxis],inv_lambda_ph:inv_lambda,beta_ph:beta,sigma_ph:sigma}\n",
    "y_pred_np,std_pred_np = sess.run([y_pred,std_pred],feed_dict=feed_dict)\n",
    "\n",
    "plt.plot(x,y,\"k-\",label=\"Ground Truth\")\n",
    "plt.plot(x_data,y_data,\"r.\",label=\"Data\")\n",
    "plt.plot(x,y_pred_np,\"b-\",label=\"Gaussian Process Regression\")\n",
    "plt.fill_between(x, y_pred_np.flatten()-std_pred_np, y_pred_np.flatten()+std_pred_np, color='grey', alpha='0.5')\n",
    "plt.legend()\n",
    "plt.xlim([-2*np.pi,2*np.pi])\n",
    "plt.ylim([-2,3])\n",
    "plt.show()"
   ]
  },
  {
   "cell_type": "markdown",
   "metadata": {},
   "source": [
    "### Effect of Scale Parameter $\\lambda^{-1}$"
   ]
  },
  {
   "cell_type": "code",
   "execution_count": null,
   "metadata": {},
   "outputs": [],
   "source": [
    "inv_lambda1 = \n",
    "inv_lambda2 = \n",
    "inv_lambda3 = \n",
    "inv_lambda4 = 5e0\n",
    "inv_lambda5 = \n",
    "\n",
    "\n",
    "feed_dict = {x_star_ph:x[:,np.newaxis],x_ph:x_data[:,np.newaxis],y_ph:y_data[:,np.newaxis],inv_lambda_ph:inv_lambda1,beta_ph:beta,sigma_ph:sigma}\n",
    "y_pred_np1,std_pred_np1 = sess.run([y_pred,std_pred],feed_dict=feed_dict)\n",
    "\n",
    "feed_dict = {x_star_ph:x[:,np.newaxis],x_ph:x_data[:,np.newaxis],y_ph:y_data[:,np.newaxis],inv_lambda_ph:inv_lambda2,beta_ph:beta,sigma_ph:sigma}\n",
    "y_pred_np2,std_pred_np2 = sess.run([y_pred,std_pred],feed_dict=feed_dict)\n",
    "\n",
    "feed_dict = {x_star_ph:x[:,np.newaxis],x_ph:x_data[:,np.newaxis],y_ph:y_data[:,np.newaxis],inv_lambda_ph:inv_lambda3,beta_ph:beta,sigma_ph:sigma}\n",
    "y_pred_np3,std_pred_np3 = sess.run([y_pred,std_pred],feed_dict=feed_dict)\n",
    "\n",
    "feed_dict = {x_star_ph:x[:,np.newaxis],x_ph:x_data[:,np.newaxis],y_ph:y_data[:,np.newaxis],inv_lambda_ph:inv_lambda4,beta_ph:beta,sigma_ph:sigma}\n",
    "y_pred_np4,std_pred_np4 = sess.run([y_pred,std_pred],feed_dict=feed_dict)\n",
    "\n",
    "feed_dict = {x_star_ph:x[:,np.newaxis],x_ph:x_data[:,np.newaxis],y_ph:y_data[:,np.newaxis],inv_lambda_ph:inv_lambda5,beta_ph:beta,sigma_ph:sigma}\n",
    "y_pred_np5,std_pred_np5 = sess.run([y_pred,std_pred],feed_dict=feed_dict)\n",
    "\n",
    "plt.figure()\n",
    "plt.title('$\\lambda^{-1}$'+': {:.01e}'.format(inv_lambda1),{'fontsize':20})\n",
    "plt.plot(x,y,\"k-\",label=\"Ground Truth\")\n",
    "plt.plot(x_data,y_data,\"r.\",label=\"Data\")\n",
    "plt.plot(x,y_pred_np1,\"b-\",label=\"Gaussian Process Regression\")\n",
    "plt.fill_between(x, y_pred_np1.flatten()-std_pred_np1, y_pred_np1.flatten()+std_pred_np1, color='grey', alpha='0.5')\n",
    "plt.legend()\n",
    "plt.xlim([-2*np.pi,2*np.pi])\n",
    "plt.ylim([-2,3])\n",
    "\n",
    "plt.figure()\n",
    "plt.title('$\\lambda^{-1}$'+': {:.01e}'.format(inv_lambda2),{'fontsize':20})\n",
    "plt.plot(x,y,\"k-\",label=\"Ground Truth\")\n",
    "plt.plot(x_data,y_data,\"r.\",label=\"Data\")\n",
    "plt.plot(x,y_pred_np2,\"b-\",label=\"Gaussian Process Regression\")\n",
    "plt.fill_between(x, y_pred_np2.flatten()-std_pred_np2, y_pred_np2.flatten()+std_pred_np2, color='grey', alpha='0.5')\n",
    "plt.legend()\n",
    "plt.xlim([-2*np.pi,2*np.pi])\n",
    "plt.ylim([-2,3])\n",
    "\n",
    "plt.figure()\n",
    "plt.title('$\\lambda^{-1}$'+': {:.01e}'.format(inv_lambda3),{'fontsize':20})\n",
    "plt.plot(x,y,\"k-\",label=\"Ground Truth\")\n",
    "plt.plot(x_data,y_data,\"r.\",label=\"Data\")\n",
    "plt.plot(x,y_pred_np3,\"b-\",label=\"Gaussian Process Regression\")\n",
    "plt.fill_between(x, y_pred_np3.flatten()-std_pred_np3, y_pred_np3.flatten()+std_pred_np3, color='grey', alpha='0.5')\n",
    "plt.legend()\n",
    "plt.xlim([-2*np.pi,2*np.pi])\n",
    "plt.ylim([-2,3])\n",
    "\n",
    "plt.figure()\n",
    "plt.title('$\\lambda^{-1}$'+': {:.01e}'.format(inv_lambda4),{'fontsize':20})\n",
    "plt.plot(x,y,\"k-\",label=\"Ground Truth\")\n",
    "plt.plot(x_data,y_data,\"r.\",label=\"Data\")\n",
    "plt.plot(x,y_pred_np4,\"b-\",label=\"Gaussian Process Regression\")\n",
    "plt.fill_between(x, y_pred_np4.flatten()-std_pred_np4, y_pred_np4.flatten()+std_pred_np4, color='grey', alpha='0.5')\n",
    "plt.legend()\n",
    "plt.xlim([-2*np.pi,2*np.pi])\n",
    "plt.ylim([-2,3])\n",
    "\n",
    "plt.figure()\n",
    "plt.title('$\\lambda^{-1}$'+': {:.01e}'.format(inv_lambda5),{'fontsize':20})\n",
    "plt.plot(x,y,\"k-\",label=\"Ground Truth\")\n",
    "plt.plot(x_data,y_data,\"r.\",label=\"Data\")\n",
    "plt.plot(x,y_pred_np5,\"b-\",label=\"Gaussian Process Regression\")\n",
    "plt.fill_between(x, y_pred_np5.flatten()-std_pred_np5, y_pred_np5.flatten()+std_pred_np5, color='grey', alpha='0.5')\n",
    "plt.legend()\n",
    "plt.xlim([-2*np.pi,2*np.pi])\n",
    "plt.ylim([-2,3])\n",
    "\n",
    "plt.show()"
   ]
  },
  {
   "cell_type": "markdown",
   "metadata": {},
   "source": [
    "# What is the best hyperparameter of GPR??\n",
    "\n",
    "### We can optimize the hyperparameter using sklearn package"
   ]
  },
  {
   "cell_type": "code",
   "execution_count": null,
   "metadata": {},
   "outputs": [],
   "source": [
    "from sklearn.gaussian_process import GaussianProcessRegressor\n",
    "from sklearn.gaussian_process.kernels import RBF, ConstantKernel as C\n",
    "\n",
    "kernel = C(1.0, (1e-3, 1e3)) * RBF(10, (1e-2, 1e2))\n",
    "gp = GaussianProcessRegressor(kernel=kernel, n_restarts_optimizer=9)\n",
    "gp.fit(x_data[:,np.newaxis], y_data[:,np.newaxis])\n",
    "\n",
    "y_pred_sk, std_pred_sk = gp.predict(x[:,np.newaxis], return_std=True)\n",
    "\n",
    "plt.plot(x,y,\"k-\",label=\"Ground Truth\")\n",
    "plt.plot(x_data,y_data,\"r.\",label=\"Data\")\n",
    "plt.plot(x,y_pred_sk,\"b-\",label=\"Gaussian Process Regression\")\n",
    "plt.fill_between(x, y_pred_sk.flatten()-std_pred_sk, y_pred_sk.flatten()+std_pred_sk, color='grey', alpha='0.5')\n",
    "plt.legend()\n",
    "plt.xlim([-2*np.pi,2*np.pi])\n",
    "plt.ylim([-2,3])\n",
    "plt.show()"
   ]
  },
  {
   "cell_type": "markdown",
   "metadata": {},
   "source": [
    "# Program your own example!"
   ]
  },
  {
   "cell_type": "code",
   "execution_count": null,
   "metadata": {},
   "outputs": [],
   "source": [
    "# Generate data \n",
    "\n",
    "# Define gpr kernel\n",
    "\n",
    "# Fit kernel hyperparameter\n",
    "\n",
    "# Prediction and draw!"
   ]
  }
 ],
 "metadata": {
  "kernelspec": {
   "display_name": "Python 3",
   "language": "python",
   "name": "python3"
  },
  "language_info": {
   "codemirror_mode": {
    "name": "ipython",
    "version": 3
   },
   "file_extension": ".py",
   "mimetype": "text/x-python",
   "name": "python",
   "nbconvert_exporter": "python",
   "pygments_lexer": "ipython3",
   "version": "3.5.3"
  }
 },
 "nbformat": 4,
 "nbformat_minor": 1
}
